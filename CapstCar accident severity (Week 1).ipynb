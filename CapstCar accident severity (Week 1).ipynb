{
 "cells": [
  {
   "cell_type": "markdown",
   "metadata": {},
   "source": [
    "# Capstone Project - Car accident severity (Week 1)"
   ]
  },
  {
   "cell_type": "markdown",
   "metadata": {},
   "source": [
    "## Introduction/Business Problem"
   ]
  },
  {
   "cell_type": "markdown",
   "metadata": {},
   "source": [
    "The costs of injuries due to traffic accidents have a great impact on the society.\n",
    "In recent years, reachers and data scientists have paid attention to  factors that caused the traffic accidents.\n",
    "Applying data mining techniques to model traffic accident data records can help to understand the characteristics of driver's behaviour, roadway condition and weather condition that were causally connected with different injury severity."
   ]
  },
  {
   "cell_type": "markdown",
   "metadata": {},
   "source": [
    "## Describe Data"
   ]
  },
  {
   "cell_type": "markdown",
   "metadata": {},
   "source": [
    "The data was collected from Seattle police department, and our predictor will be 'SEVERITYCODE', which contains different levels of severity of an accident from 0 to 5 within the dataset.\n",
    "Attributes used to weigh the severity of an accident are 'WEATHER','ROADCOND',and'LIGHTCOND'.\n",
    "\n",
    "Severity codes are as following:\n",
    "    "
   ]
  },
  {
   "cell_type": "markdown",
   "metadata": {},
   "source": [
    "- 0: Little to no Probability (Clear Conditions)\n",
    "- 1: Very Low Probability — Chance or Property Damage\n",
    "- 2: Low Probability — Chance of Injury\n",
    "- 3: Mild Probability — Chance of Serious Injury\n",
    "- 4: High Probability — Chance of Fatality"
   ]
  },
  {
   "cell_type": "code",
   "execution_count": null,
   "metadata": {},
   "outputs": [],
   "source": []
  }
 ],
 "metadata": {
  "kernelspec": {
   "display_name": "Python 3",
   "language": "python",
   "name": "python3"
  },
  "language_info": {
   "codemirror_mode": {
    "name": "ipython",
    "version": 3
   },
   "file_extension": ".py",
   "mimetype": "text/x-python",
   "name": "python",
   "nbconvert_exporter": "python",
   "pygments_lexer": "ipython3",
   "version": "3.8.3"
  }
 },
 "nbformat": 4,
 "nbformat_minor": 4
}
